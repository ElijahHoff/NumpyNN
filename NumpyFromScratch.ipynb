{
 "cells": [
  {
   "cell_type": "code",
   "execution_count": 1,
   "id": "atlantic-tribe",
   "metadata": {},
   "outputs": [],
   "source": [
    "import itertools\n",
    "import os\n",
    "import random\n",
    "import shutil\n",
    "from PIL import Image\n",
    "\n",
    "import numpy as np\n",
    "from tqdm import tqdm\n",
    "\n",
    "import matplotlib.pyplot as plt\n",
    "\n",
    "from sklearn.metrics import classification_report"
   ]
  },
  {
   "cell_type": "code",
   "execution_count": 2,
   "id": "familiar-eagle",
   "metadata": {},
   "outputs": [],
   "source": [
    "a = ord('А')\n",
    "tokens = {chr(letter):i for i,letter in enumerate(range(a, a+32))}\n",
    "tokens['Ё'] = 32\n",
    "inv_tokens = {tokens[key]:key for key in tokens}"
   ]
  },
  {
   "cell_type": "code",
   "execution_count": 6,
   "id": "latin-grammar",
   "metadata": {},
   "outputs": [],
   "source": [
    "def DataPrepare(path, test_size = 0.1):\n",
    "    if os.path.exists(\"./Train\"):\n",
    "        shutil.rmtree('./Train')\n",
    "    if os.path.exists(\"./Test\"):\n",
    "        shutil.rmtree('./Test')\n",
    "    \n",
    "    os.mkdir('Train')\n",
    "    os.mkdir('Test')\n",
    "    \n",
    "    \n",
    "    for letter in tqdm(os.listdir(path)):\n",
    "        os.mkdir(os.path.join('./Train', letter))\n",
    "        os.mkdir(os.path.join('./Test', letter))\n",
    "        if len(letter) == 1:\n",
    "            imgs = os.listdir(os.path.join(path,letter))\n",
    "            test_sample = random.sample(imgs, k = int(len(imgs) * test_size))\n",
    "            for img in imgs:\n",
    "                if img in test_sample:\n",
    "                    shutil.copy(os.path.join(path,letter,img), os.path.join('./Test',letter,img))\n",
    "                else:\n",
    "                    shutil.copy(os.path.join(path,letter,img), os.path.join('./Train',letter,img))"
   ]
  },
  {
   "cell_type": "code",
   "execution_count": 7,
   "id": "fitted-copying",
   "metadata": {},
   "outputs": [],
   "source": [
    "# DataPrepare('Cyrillic')"
   ]
  },
  {
   "cell_type": "code",
   "execution_count": 8,
   "id": "statistical-beads",
   "metadata": {},
   "outputs": [],
   "source": [
    "class AddGaussianNoise(object):\n",
    "    def __init__(self, mean=0., std=1.):\n",
    "        self.std = std\n",
    "        self.mean = mean\n",
    "        \n",
    "    def __call__(self, tensor):\n",
    "        return tensor + torch.randn(tensor.size()) * self.std + self.mean\n",
    "\n",
    "class AddPixelNoise(object):\n",
    "    def __init__(self, p = 0.1):\n",
    "        self.p = p\n",
    "        \n",
    "    def __call__(self, tensor):\n",
    "        sizes = tensor.size()\n",
    "        tensor = tensor.view(-1)\n",
    "        pixels = torch.tensor(random.sample([i for i in range(tensor.size(0))], k = int(tensor.size(0) * self.p)))\n",
    "        tensor[pixels] = 1\n",
    "        return tensor.view(sizes)"
   ]
  },
  {
   "cell_type": "code",
   "execution_count": 313,
   "id": "split-turning",
   "metadata": {},
   "outputs": [],
   "source": [
    "class DataSet_np():\n",
    "    def __init__(self, path, train_mode = True):\n",
    "        self.data = []\n",
    "        self.train_mode = train_mode\n",
    "        for letter in os.listdir(path):\n",
    "            if len(letter) == 1:\n",
    "                for img in os.listdir(os.path.join(path,letter)):\n",
    "                    if img == \".ipynb_checkpoints\":\n",
    "                        continue\n",
    "                    self.data.append([os.path.join(path,letter,img), tokens[letter]])\n",
    "        random.shuffle(self.data)\n",
    "        \n",
    "    def __len__(self):\n",
    "        return len(self.data)\n",
    "    \n",
    "    def __getitem__(self, index):\n",
    "        img, target = self.data[index]\n",
    "        img = Image.open(img)\n",
    "        if self.train_mode:\n",
    "            img = img.resize((28,28))\n",
    "            img = np.array(img)[:,:,3]\n",
    "        else:\n",
    "            img = img.resize((28,28))\n",
    "            img = np.array(img)[:,:,3]\n",
    "        img[img>0] = 1\n",
    "        img = img.flatten()\n",
    "        return img, np.array(target)"
   ]
  },
  {
   "cell_type": "code",
   "execution_count": 314,
   "id": "large-covering",
   "metadata": {},
   "outputs": [],
   "source": [
    "train_set = DataSet_np(\"./Train\", train_mode=True)\n",
    "val_set = DataSet_np(\"./Test\", train_mode=False)"
   ]
  },
  {
   "cell_type": "code",
   "execution_count": 315,
   "id": "optional-solid",
   "metadata": {},
   "outputs": [
    {
     "data": {
      "image/png": "[encoded data removed]",
      "text/plain": [
       "<Figure size 432x288 with 1 Axes>"
      ]
     },
     "metadata": {
      "needs_background": "light"
     },
     "output_type": "display_data"
    }
   ],
   "source": [
    "plt.imshow(train_set[100][0].reshape(28,28));"
   ]
  },
  {
   "cell_type": "code",
   "execution_count": 316,
   "id": "natural-albuquerque",
   "metadata": {},
   "outputs": [
    {
     "name": "stdout",
     "output_type": "stream",
     "text": [
      "13726\n",
      "1507\n"
     ]
    }
   ],
   "source": [
    "print(len(train_set))\n",
    "print(len(val_set))"
   ]
  },
  {
   "cell_type": "code",
   "execution_count": 317,
   "id": "british-input",
   "metadata": {},
   "outputs": [
    {
     "data": {
      "text/plain": [
       "<matplotlib.image.AxesImage at 0x166a776efa0>"
      ]
     },
     "execution_count": 317,
     "metadata": {},
     "output_type": "execute_result"
    },
    {
     "data": {
      "image/png": "[encoded data removed]",
      "text/plain": [
       "<Figure size 432x288 with 1 Axes>"
      ]
     },
     "metadata": {
      "needs_background": "light"
     },
     "output_type": "display_data"
    }
   ],
   "source": [
    "plt.imshow(val_set[100][0].reshape(28,28))"
   ]
  },
  {
   "cell_type": "code",
   "execution_count": 318,
   "id": "radical-atlas",
   "metadata": {},
   "outputs": [],
   "source": [
    "class Fully_Connected:\n",
    "    def __init__(self, in_size, out_size):\n",
    "        self.W = np.random.normal(scale=1, size=(out_size, in_size))*np.sqrt(2/(out_size + in_size))\n",
    "        self.b = np.zeros(out_size)\n",
    "        \n",
    "    def forward(self, x):\n",
    "        self.x = x\n",
    "#         print('Fully_Connected',x.shape)\n",
    "        return np.dot(self.W, x) + self.b\n",
    "    \n",
    "    def backward(self, dz, lr):\n",
    "        dx = np.matmul(dz, self.W)\n",
    "        db = dz\n",
    "        dW = np.outer(dz, self.x)\n",
    "        \n",
    "        self.W = self.W - dW * lr\n",
    "        self.b = self.b - db * lr\n",
    "        return dx  "
   ]
  },
  {
   "cell_type": "code",
   "execution_count": 319,
   "id": "interesting-party",
   "metadata": {},
   "outputs": [],
   "source": [
    "class ReLU:\n",
    "    def __init__(self):\n",
    "        pass\n",
    "    \n",
    "    def forward(self, x):\n",
    "        self.x = x\n",
    "        x[x < 0] = 0\n",
    "        return x\n",
    "    \n",
    "    def backward(self, dz, lr):\n",
    "        dz[self.x < 0] = 0\n",
    "        return dz"
   ]
  },
  {
   "cell_type": "code",
   "execution_count": 320,
   "id": "promising-cherry",
   "metadata": {},
   "outputs": [],
   "source": [
    "class Net():\n",
    "    def __init__(self):\n",
    "        self.l1 = Fully_Connected(784, 256)\n",
    "        self.r1 = ReLU()\n",
    "        \n",
    "        self.l2 = Fully_Connected(256, 128)\n",
    "        self.r2 = ReLU()\n",
    "        \n",
    "        self.l3 = Fully_Connected(128, 33)\n",
    "        \n",
    "    def forward(self, x):\n",
    "        x = self.r1.forward(self.l1.forward(x))\n",
    "        x = self.r2.forward(self.l2.forward(x))\n",
    "        x = self.l3.forward(x)\n",
    "        return x\n",
    "    \n",
    "    def backward(self, dz, lr):\n",
    "        dz = self.l3.backward(dz, lr)\n",
    "        dz = self.r2.backward(dz, lr)\n",
    "        dz = self.l2.backward(dz, lr)\n",
    "        dz = self.r1.backward(dz, lr)\n",
    "        dz = self.l1.backward(dz, lr)\n",
    "        return dz"
   ]
  },
  {
   "cell_type": "code",
   "execution_count": 321,
   "id": "interracial-forty",
   "metadata": {},
   "outputs": [],
   "source": [
    "class SoftMax:\n",
    "    def __init__(self):\n",
    "        pass\n",
    "    \n",
    "    def forward(self, x):\n",
    "        self.x = x\n",
    "        exps = np.exp(x)\n",
    "        return exps/sum(exps)\n",
    "    \n",
    "    def backward(self, dz, lr = 0.1):\n",
    "        sm = self.forward(self.x)\n",
    "        lp = (np.eye(sm.shape[0], sm.shape[0]) - sm).T\n",
    "        lp2 = sm * lp\n",
    "        return np.dot(dz, lp2)"
   ]
  },
  {
   "cell_type": "code",
   "execution_count": 330,
   "id": "worthy-monaco",
   "metadata": {},
   "outputs": [],
   "source": [
    "class CrossEntropy():\n",
    "    def __init__(self):\n",
    "        pass\n",
    "    \n",
    "    def forward(self, x, y):\n",
    "        self.x = x[y]\n",
    "        self.y = y\n",
    "        self.size = x.shape\n",
    "        return - np.log(x[y])\n",
    "    \n",
    "    def backward(self, lr):\n",
    "        dz = np.zeros(self.size)\n",
    "        dz[self.y] = - 1 / self.x\n",
    "        return dz"
   ]
  },
  {
   "cell_type": "code",
   "execution_count": 331,
   "id": "portuguese-management",
   "metadata": {},
   "outputs": [],
   "source": [
    "net = Net()\n",
    "softmax = SoftMax()\n",
    "criterion = CrossEntropy()"
   ]
  },
  {
   "cell_type": "code",
   "execution_count": 332,
   "id": "regulated-suspect",
   "metadata": {
    "tags": []
   },
   "outputs": [],
   "source": [
    "# net.forward(np.random.rand(784))"
   ]
  },
  {
   "cell_type": "code",
   "execution_count": 333,
   "id": "congressional-center",
   "metadata": {},
   "outputs": [],
   "source": [
    "# net.backward(np.random.rand(33), 0.1)"
   ]
  },
  {
   "cell_type": "code",
   "execution_count": 334,
   "id": "moving-fusion",
   "metadata": {
    "tags": []
   },
   "outputs": [],
   "source": [
    "# for i in range(1000):\n",
    "#     out = net.forward(x)\n",
    "#     out = softmax.forward(out)\n",
    "#     loss = criterion.forward(out, y)\n",
    "#     print(loss)\n",
    "#     dz = criterion.backward(0.001)\n",
    "#     dz = softmax.backward(dz, lr = 0.001)\n",
    "#     dz = net.backward(dz, lr = 0.001)"
   ]
  },
  {
   "cell_type": "code",
   "execution_count": 335,
   "id": "lucky-pipeline",
   "metadata": {},
   "outputs": [],
   "source": [
    "def train(net, loader, lr):\n",
    "    mean_loss = []\n",
    "    \n",
    "    for img, y in tqdm(loader):\n",
    "        out = net.forward(x)\n",
    "        out = softmax.forward(out)\n",
    "        loss = criterion.forward(out, y)\n",
    "        \n",
    "        mean_loss.append(loss)\n",
    "        \n",
    "        dz = criterion.backward(lr)\n",
    "        dz = softmax.backward(dz, lr = lr)\n",
    "        dz = net.backward(dz, lr = lr)\n",
    "        \n",
    "    print(\"Train loss\", sum(mean_loss)/len(mean_loss))"
   ]
  },
  {
   "cell_type": "code",
   "execution_count": 336,
   "id": "accepted-sentence",
   "metadata": {},
   "outputs": [],
   "source": [
    "def val(net, loader):   \n",
    "    mean_loss = []\n",
    "    \n",
    "    pred = []\n",
    "    true = []\n",
    "    \n",
    "    for img, y in tqdm(loader):\n",
    "        out = net.forward(x)\n",
    "        out = softmax.forward(out)\n",
    "        \n",
    "        loss = criterion.forward(out, y)\n",
    "        \n",
    "        mean_loss.append(loss)\n",
    "        \n",
    "        pred.append(out.argmax())\n",
    "        true.append(y)\n",
    "        \n",
    "    print(\"Val loss\", sum(mean_loss)/len(mean_loss))\n",
    "    print(classification_report(pred, true))"
   ]
  },
  {
   "cell_type": "code",
   "execution_count": null,
   "id": "social-celebration",
   "metadata": {
    "tags": []
   },
   "outputs": [
    {
     "name": "stderr",
     "output_type": "stream",
     "text": [
      "  0%|                                                                              | 15/13726 [00:00<01:33, 146.79it/s]"
     ]
    },
    {
     "name": "stdout",
     "output_type": "stream",
     "text": [
      "Epoch: 1\n"
     ]
    },
    {
     "name": "stderr",
     "output_type": "stream",
     "text": [
      "100%|███████████████████████████████████████████████████████████████████████████| 13726/13726 [01:24<00:00, 163.18it/s]\n",
      "  3%|██▌                                                                            | 50/1507 [00:00<00:02, 492.33it/s]"
     ]
    },
    {
     "name": "stdout",
     "output_type": "stream",
     "text": [
      "Train loss 3.5228313058378706\n"
     ]
    },
    {
     "name": "stderr",
     "output_type": "stream",
     "text": [
      "100%|█████████████████████████████████████████████████████████████████████████████| 1507/1507 [00:03<00:00, 471.68it/s]\n",
      "c:\\users\\zheny\\documents\\pytorch\\lib\\site-packages\\sklearn\\metrics\\_classification.py:1245: UndefinedMetricWarning: Recall and F-score are ill-defined and being set to 0.0 in labels with no true samples. Use `zero_division` parameter to control this behavior.\n",
      "  _warn_prf(average, modifier, msg_start, len(result))\n",
      "c:\\users\\zheny\\documents\\pytorch\\lib\\site-packages\\sklearn\\metrics\\_classification.py:1245: UndefinedMetricWarning: Recall and F-score are ill-defined and being set to 0.0 in labels with no true samples. Use `zero_division` parameter to control this behavior.\n",
      "  _warn_prf(average, modifier, msg_start, len(result))\n",
      "c:\\users\\zheny\\documents\\pytorch\\lib\\site-packages\\sklearn\\metrics\\_classification.py:1245: UndefinedMetricWarning: Recall and F-score are ill-defined and being set to 0.0 in labels with no true samples. Use `zero_division` parameter to control this behavior.\n",
      "  _warn_prf(average, modifier, msg_start, len(result))\n",
      "  0%|                                                                              | 17/13726 [00:00<01:20, 169.45it/s]"
     ]
    },
    {
     "name": "stdout",
     "output_type": "stream",
     "text": [
      "Val loss 3.5014949780381603\n",
      "              precision    recall  f1-score   support\n",
      "\n",
      "           0       0.00      0.00      0.00         0\n",
      "           1       0.00      0.00      0.00         0\n",
      "           2       0.00      0.00      0.00         0\n",
      "           3       0.00      0.00      0.00         0\n",
      "           4       0.00      0.00      0.00         0\n",
      "           5       0.00      0.00      0.00         0\n",
      "           6       0.00      0.00      0.00         0\n",
      "           7       0.00      0.00      0.00         0\n",
      "           8       0.00      0.00      0.00         0\n",
      "           9       0.00      0.00      0.00         0\n",
      "          10       0.00      0.00      0.00         0\n",
      "          11       0.00      0.00      0.00         0\n",
      "          12       0.00      0.00      0.00         0\n",
      "          13       0.00      0.00      0.00         0\n",
      "          14       0.00      0.00      0.00         0\n",
      "          15       0.00      0.00      0.00         0\n",
      "          16       0.00      0.00      0.00         0\n",
      "          17       0.00      0.00      0.00         0\n",
      "          18       0.00      0.00      0.00         0\n",
      "          19       1.00      0.04      0.07      1507\n",
      "          20       0.00      0.00      0.00         0\n",
      "          21       0.00      0.00      0.00         0\n",
      "          22       0.00      0.00      0.00         0\n",
      "          23       0.00      0.00      0.00         0\n",
      "          24       0.00      0.00      0.00         0\n",
      "          25       0.00      0.00      0.00         0\n",
      "          26       0.00      0.00      0.00         0\n",
      "          27       0.00      0.00      0.00         0\n",
      "          28       0.00      0.00      0.00         0\n",
      "          29       0.00      0.00      0.00         0\n",
      "          30       0.00      0.00      0.00         0\n",
      "          31       0.00      0.00      0.00         0\n",
      "          32       0.00      0.00      0.00         0\n",
      "\n",
      "    accuracy                           0.04      1507\n",
      "   macro avg       0.03      0.00      0.00      1507\n",
      "weighted avg       1.00      0.04      0.07      1507\n",
      "\n",
      "Epoch: 2\n"
     ]
    },
    {
     "name": "stderr",
     "output_type": "stream",
     "text": [
      "100%|███████████████████████████████████████████████████████████████████████████| 13726/13726 [01:19<00:00, 173.22it/s]\n",
      "  6%|████▌                                                                          | 88/1507 [00:00<00:03, 423.21it/s]"
     ]
    },
    {
     "name": "stdout",
     "output_type": "stream",
     "text": [
      "Train loss 3.5026236807180897\n"
     ]
    },
    {
     "name": "stderr",
     "output_type": "stream",
     "text": [
      "100%|█████████████████████████████████████████████████████████████████████████████| 1507/1507 [00:03<00:00, 488.64it/s]\n",
      "c:\\users\\zheny\\documents\\pytorch\\lib\\site-packages\\sklearn\\metrics\\_classification.py:1245: UndefinedMetricWarning: Recall and F-score are ill-defined and being set to 0.0 in labels with no true samples. Use `zero_division` parameter to control this behavior.\n",
      "  _warn_prf(average, modifier, msg_start, len(result))\n",
      "c:\\users\\zheny\\documents\\pytorch\\lib\\site-packages\\sklearn\\metrics\\_classification.py:1245: UndefinedMetricWarning: Recall and F-score are ill-defined and being set to 0.0 in labels with no true samples. Use `zero_division` parameter to control this behavior.\n",
      "  _warn_prf(average, modifier, msg_start, len(result))\n",
      "c:\\users\\zheny\\documents\\pytorch\\lib\\site-packages\\sklearn\\metrics\\_classification.py:1245: UndefinedMetricWarning: Recall and F-score are ill-defined and being set to 0.0 in labels with no true samples. Use `zero_division` parameter to control this behavior.\n",
      "  _warn_prf(average, modifier, msg_start, len(result))\n",
      "  0%|                                                                              | 15/13726 [00:00<01:31, 149.82it/s]"
     ]
    },
    {
     "name": "stdout",
     "output_type": "stream",
     "text": [
      "Val loss 3.5021043857447745\n",
      "              precision    recall  f1-score   support\n",
      "\n",
      "           0       1.00      0.03      0.06      1507\n",
      "           1       0.00      0.00      0.00         0\n",
      "           2       0.00      0.00      0.00         0\n",
      "           3       0.00      0.00      0.00         0\n",
      "           4       0.00      0.00      0.00         0\n",
      "           5       0.00      0.00      0.00         0\n",
      "           6       0.00      0.00      0.00         0\n",
      "           7       0.00      0.00      0.00         0\n",
      "           8       0.00      0.00      0.00         0\n",
      "           9       0.00      0.00      0.00         0\n",
      "          10       0.00      0.00      0.00         0\n",
      "          11       0.00      0.00      0.00         0\n",
      "          12       0.00      0.00      0.00         0\n",
      "          13       0.00      0.00      0.00         0\n",
      "          14       0.00      0.00      0.00         0\n",
      "          15       0.00      0.00      0.00         0\n",
      "          16       0.00      0.00      0.00         0\n",
      "          17       0.00      0.00      0.00         0\n",
      "          18       0.00      0.00      0.00         0\n",
      "          19       0.00      0.00      0.00         0\n",
      "          20       0.00      0.00      0.00         0\n",
      "          21       0.00      0.00      0.00         0\n",
      "          22       0.00      0.00      0.00         0\n",
      "          23       0.00      0.00      0.00         0\n",
      "          24       0.00      0.00      0.00         0\n",
      "          25       0.00      0.00      0.00         0\n",
      "          26       0.00      0.00      0.00         0\n",
      "          27       0.00      0.00      0.00         0\n",
      "          28       0.00      0.00      0.00         0\n",
      "          29       0.00      0.00      0.00         0\n",
      "          30       0.00      0.00      0.00         0\n",
      "          31       0.00      0.00      0.00         0\n",
      "          32       0.00      0.00      0.00         0\n",
      "\n",
      "    accuracy                           0.03      1507\n",
      "   macro avg       0.03      0.00      0.00      1507\n",
      "weighted avg       1.00      0.03      0.06      1507\n",
      "\n",
      "Epoch: 3\n"
     ]
    },
    {
     "name": "stderr",
     "output_type": "stream",
     "text": [
      " 35%|██████████████████████████▏                                                 | 4738/13726 [00:30<01:04, 139.55it/s]"
     ]
    }
   ],
   "source": [
    "%%time\n",
    "learcning_rate = 0.01\n",
    "for epoch in range(1, 12):\n",
    "    if epoch == 6:\n",
    "        learcning_rate = 0.001\n",
    "    print(\"Epoch:\",epoch)\n",
    "\n",
    "    train(net, train_set, learcning_rate)\n",
    "    val(net, val_set)"
   ]
  },
  {
   "cell_type": "code",
   "execution_count": 25,
   "id": "ideal-vessel",
   "metadata": {
    "tags": []
   },
   "outputs": [],
   "source": [
    "def predict(net, path):\n",
    "    \n",
    "    img = Image.open(path).convert(\"L\").resize((28,28))\n",
    "    img = test_transforms(img)\n",
    "    img = torch.abs(img - 1)\n",
    "    img[img > 0] = 1\n",
    "#     print(img)\n",
    "    plt.imshow(img[0])\n",
    "    plt.show()\n",
    "    img = img.view(-1)\n",
    "    \n",
    "    net = net.cpu()\n",
    "    net.eval()\n",
    "    with torch.no_grad():\n",
    "        out = net(img.unsqueeze(0))\n",
    "        out = out.squeeze(0)\n",
    "        out = F.softmax(out, dim = -1)\n",
    "        for key in tokens:\n",
    "            print(key, out[tokens[key]])\n",
    "        pred = out.argmax().item()\n",
    "        print(f'predicted letter is {inv_tokens[pred]}')"
   ]
  },
  {
   "cell_type": "code",
   "execution_count": 26,
   "id": "worth-savannah",
   "metadata": {},
   "outputs": [
    {
     "data": {
      "image/png": "[encoded data removed]",
      "text/plain": [
       "<Figure size 432x288 with 1 Axes>"
      ]
     },
     "metadata": {
      "needs_background": "light"
     },
     "output_type": "display_data"
    },
    {
     "name": "stdout",
     "output_type": "stream",
     "text": [
      "А tensor(0.9511)\n",
      "Б tensor(1.8005e-10)\n",
      "В tensor(1.5191e-10)\n",
      "Г tensor(2.1296e-09)\n",
      "Д tensor(0.0007)\n",
      "Е tensor(7.1601e-12)\n",
      "Ж tensor(1.0281e-08)\n",
      "З tensor(5.7959e-08)\n",
      "И tensor(6.5267e-05)\n",
      "Й tensor(1.8406e-06)\n",
      "К tensor(3.3220e-07)\n",
      "Л tensor(0.0462)\n",
      "М tensor(0.0014)\n",
      "Н tensor(2.1043e-06)\n",
      "О tensor(3.1289e-11)\n",
      "П tensor(2.7955e-07)\n",
      "Р tensor(2.3198e-08)\n",
      "С tensor(2.6474e-11)\n",
      "Т tensor(6.6764e-09)\n",
      "У tensor(9.0270e-08)\n",
      "Ф tensor(1.0065e-08)\n",
      "Х tensor(0.0001)\n",
      "Ц tensor(8.8790e-09)\n",
      "Ч tensor(4.2149e-09)\n",
      "Ш tensor(1.1275e-12)\n",
      "Щ tensor(1.2968e-10)\n",
      "Ъ tensor(5.6146e-12)\n",
      "Ы tensor(6.5381e-11)\n",
      "Ь tensor(1.6184e-09)\n",
      "Э tensor(8.6438e-11)\n",
      "Ю tensor(2.0236e-11)\n",
      "Я tensor(0.0003)\n",
      "Ё tensor(2.7987e-12)\n",
      "predicted letter is А\n"
     ]
    }
   ],
   "source": [
    "predict(net, './test2.png')"
   ]
  },
  {
   "cell_type": "code",
   "execution_count": 27,
   "id": "executed-claim",
   "metadata": {},
   "outputs": [],
   "source": [
    "def showImg(img):\n",
    "    plt.imshow(img)\n",
    "    plt.show()"
   ]
  },
  {
   "cell_type": "code",
   "execution_count": 35,
   "id": "supported-reynolds",
   "metadata": {},
   "outputs": [
    {
     "name": "stdout",
     "output_type": "stream",
     "text": [
      "(213, 375, 3)\n"
     ]
    },
    {
     "data": {
      "image/png": "[encoded data removed]",
      "text/plain": [
       "<Figure size 432x288 with 1 Axes>"
      ]
     },
     "metadata": {
      "needs_background": "light"
     },
     "output_type": "display_data"
    },
    {
     "data": {
      "image/png": "[encoded data removed]",
      "text/plain": [
       "<Figure size 432x288 with 1 Axes>"
      ]
     },
     "metadata": {
      "needs_background": "light"
     },
     "output_type": "display_data"
    },
    {
     "data": {
      "image/png": "[encoded data removed]",
      "text/plain": [
       "<Figure size 432x288 with 1 Axes>"
      ]
     },
     "metadata": {
      "needs_background": "light"
     },
     "output_type": "display_data"
    },
    {
     "data": {
      "image/png": "[encoded data removed]",
      "text/plain": [
       "<Figure size 432x288 with 1 Axes>"
      ]
     },
     "metadata": {
      "needs_background": "light"
     },
     "output_type": "display_data"
    },
    {
     "data": {
      "image/png": "[encoded data removed]",
      "text/plain": [
       "<Figure size 432x288 with 1 Axes>"
      ]
     },
     "metadata": {
      "needs_background": "light"
     },
     "output_type": "display_data"
    },
    {
     "name": "stdout",
     "output_type": "stream",
     "text": [
      "А tensor(2.2281e-10)\n",
      "Б tensor(1.0610e-09)\n",
      "В tensor(2.2196e-11)\n",
      "Г tensor(1.1194e-08)\n",
      "Д tensor(5.3367e-09)\n",
      "Е tensor(2.8424e-12)\n",
      "Ж tensor(0.0001)\n",
      "З tensor(8.3972e-11)\n",
      "И tensor(0.9990)\n",
      "Й tensor(3.3647e-05)\n",
      "К tensor(6.9434e-05)\n",
      "Л tensor(5.6316e-07)\n",
      "М tensor(5.5270e-06)\n",
      "Н tensor(0.0001)\n",
      "О tensor(3.8897e-09)\n",
      "П tensor(8.6138e-05)\n",
      "Р tensor(1.6184e-07)\n",
      "С tensor(7.1230e-11)\n",
      "Т tensor(3.1097e-07)\n",
      "У tensor(0.0004)\n",
      "Ф tensor(2.7180e-09)\n",
      "Х tensor(1.9760e-05)\n",
      "Ц tensor(3.0865e-06)\n",
      "Ч tensor(5.5838e-05)\n",
      "Ш tensor(1.7093e-06)\n",
      "Щ tensor(1.0827e-07)\n",
      "Ъ tensor(1.3454e-07)\n",
      "Ы tensor(7.6751e-06)\n",
      "Ь tensor(1.4603e-10)\n",
      "Э tensor(6.6242e-11)\n",
      "Ю tensor(4.8406e-05)\n",
      "Я tensor(7.5015e-09)\n",
      "Ё tensor(4.7127e-13)\n",
      "predicted letter is И\n"
     ]
    },
    {
     "data": {
      "image/png": "[encoded data removed]",
      "text/plain": [
       "<Figure size 432x288 with 1 Axes>"
      ]
     },
     "metadata": {
      "needs_background": "light"
     },
     "output_type": "display_data"
    },
    {
     "name": "stdout",
     "output_type": "stream",
     "text": [
      "А tensor(4.5293e-05)\n",
      "Б tensor(0.0012)\n",
      "В tensor(0.0002)\n",
      "Г tensor(0.0049)\n",
      "Д tensor(0.1080)\n",
      "Е tensor(2.8365e-05)\n",
      "Ж tensor(8.6851e-06)\n",
      "З tensor(4.2725e-09)\n",
      "И tensor(4.0952e-10)\n",
      "Й tensor(4.8294e-06)\n",
      "К tensor(0.0150)\n",
      "Л tensor(1.3594e-06)\n",
      "М tensor(2.4373e-09)\n",
      "Н tensor(0.0003)\n",
      "О tensor(5.4700e-05)\n",
      "П tensor(0.0003)\n",
      "Р tensor(0.7529)\n",
      "С tensor(2.0012e-05)\n",
      "Т tensor(4.9364e-07)\n",
      "У tensor(2.0030e-10)\n",
      "Ф tensor(2.0331e-05)\n",
      "Х tensor(0.0003)\n",
      "Ц tensor(2.9051e-09)\n",
      "Ч tensor(6.6906e-10)\n",
      "Ш tensor(6.9235e-09)\n",
      "Щ tensor(9.2319e-11)\n",
      "Ъ tensor(2.9319e-07)\n",
      "Ы tensor(1.8699e-06)\n",
      "Ь tensor(7.4555e-07)\n",
      "Э tensor(1.0416e-08)\n",
      "Ю tensor(0.1166)\n",
      "Я tensor(3.7031e-07)\n",
      "Ё tensor(1.1236e-06)\n",
      "predicted letter is Р\n"
     ]
    }
   ],
   "source": [
    "import cv2\n",
    "\n",
    "\n",
    "image = cv2.imread('real_test7.png')\n",
    "print(image.shape)\n",
    "showImg(image)\n",
    "gray = cv2.cvtColor(image, cv2.COLOR_BGR2GRAY)\n",
    "showImg(gray)\n",
    "# blur = cv2.GaussianBlur(gray, (9,9), 0)\n",
    "thresh = cv2.adaptiveThreshold(gray,255,cv2.ADAPTIVE_THRESH_GAUSSIAN_C, cv2.THRESH_BINARY_INV,11,30)\n",
    "\n",
    "showImg(thresh)\n",
    "\n",
    "# Dilate to combine adjacent text contours\n",
    "kernel = cv2.getStructuringElement(cv2.MORPH_RECT, (9,9))\n",
    "dilate = cv2.dilate(thresh, kernel, iterations=4)\n",
    "\n",
    "showImg(dilate)\n",
    "\n",
    "# Find contours, highlight text areas, and extract ROIs\n",
    "cnts = cv2.findContours(dilate, cv2.RETR_EXTERNAL, cv2.CHAIN_APPROX_SIMPLE)\n",
    "cnts = cnts[0] if len(cnts) == 2 else cnts[1]\n",
    "\n",
    "ROI_number = 0\n",
    "for c in cnts:\n",
    "    area = cv2.contourArea(c)\n",
    "    if area > 1000:\n",
    "        x,y,w,h = cv2.boundingRect(c)\n",
    "#         cv2.rectangle(image, (x, y), (x + w, y + h), (36,255,12), 3)\n",
    "        ROI = image[y:y+h, x:x+w]\n",
    "        cv2.imwrite(f'ROI_{ROI_number}.png', ROI)\n",
    "        ROI_number += 1\n",
    "\n",
    "        predict(net, f'ROI_{ROI_number - 1}.png')"
   ]
  },
  {
   "cell_type": "code",
   "execution_count": null,
   "id": "injured-acrylic",
   "metadata": {},
   "outputs": [],
   "source": []
  },
  {
   "cell_type": "code",
   "execution_count": null,
   "id": "informed-substitute",
   "metadata": {},
   "outputs": [],
   "source": []
  },
  {
   "cell_type": "code",
   "execution_count": null,
   "id": "imperial-cartridge",
   "metadata": {},
   "outputs": [],
   "source": []
  },
  {
   "cell_type": "code",
   "execution_count": null,
   "id": "constant-south",
   "metadata": {},
   "outputs": [],
   "source": []
  },
  {
   "cell_type": "code",
   "execution_count": null,
   "id": "ethical-bradley",
   "metadata": {},
   "outputs": [],
   "source": []
  },
  {
   "cell_type": "code",
   "execution_count": null,
   "id": "written-stone",
   "metadata": {},
   "outputs": [],
   "source": []
  },
  {
   "cell_type": "code",
   "execution_count": null,
   "id": "auburn-reviewer",
   "metadata": {},
   "outputs": [],
   "source": []
  },
  {
   "cell_type": "code",
   "execution_count": null,
   "id": "collectible-honduras",
   "metadata": {},
   "outputs": [],
   "source": []
  },
  {
   "cell_type": "code",
   "execution_count": null,
   "id": "baking-small",
   "metadata": {},
   "outputs": [],
   "source": []
  },
  {
   "cell_type": "code",
   "execution_count": null,
   "id": "cardiac-bracelet",
   "metadata": {},
   "outputs": [],
   "source": []
  },
  {
   "cell_type": "code",
   "execution_count": null,
   "id": "brutal-characteristic",
   "metadata": {},
   "outputs": [],
   "source": []
  },
  {
   "cell_type": "code",
   "execution_count": null,
   "id": "seeing-spirituality",
   "metadata": {},
   "outputs": [],
   "source": []
  }
 ],
 "metadata": {
  "kernelspec": {
   "display_name": "Python 3",
   "language": "python",
   "name": "python3"
  },
  "language_info": {
   "codemirror_mode": {
    "name": "ipython",
    "version": 3
   },
   "file_extension": ".py",
   "mimetype": "text/x-python",
   "name": "python",
   "nbconvert_exporter": "python",
   "pygments_lexer": "ipython3",
   "version": "3.9.2"
  }
 },
 "nbformat": 4,
 "nbformat_minor": 5
}
